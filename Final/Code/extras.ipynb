{
 "cells": [
  {
   "cell_type": "code",
   "execution_count": 1,
   "metadata": {
    "collapsed": false
   },
   "outputs": [
    {
     "name": "stderr",
     "output_type": "stream",
     "text": [
      "/Users/sarahkelley/anaconda/envs/tensorflow/lib/python2.7/site-packages/sklearn/cross_validation.py:44: DeprecationWarning: This module was deprecated in version 0.18 in favor of the model_selection module into which all the refactored classes and functions are moved. Also note that the interface of the new CV iterators are different from that of this module. This module will be removed in 0.20.\n",
      "  \"This module will be removed in 0.20.\", DeprecationWarning)\n"
     ]
    }
   ],
   "source": [
    "import pandas as pd\n",
    "import numpy as np\n",
    "import random\n",
    "import math\n",
    "import nltk\n",
    "import sys\n",
    "from nltk.stem.snowball import SnowballStemmer\n",
    "from sklearn.cluster import KMeans\n",
    "from sklearn.feature_extraction.text import TfidfVectorizer\n",
    "from sklearn.metrics.pairwise import cosine_similarity\n",
    "from sklearn.feature_extraction.text import TfidfVectorizer\n",
    "from sklearn.metrics.pairwise import cosine_similarity\n",
    "from sklearn.metrics.pairwise import pairwise_distances\n",
    "from nltk.corpus import stopwords\n",
    "from sklearn.linear_model import LogisticRegression\n",
    "from sklearn.cross_validation import train_test_split\n",
    "from sklearn import metrics\n",
    "import gensim\n",
    "from gensim import corpora\n",
    "from gensim.models import LdaMulticore\n",
    "from operator import itemgetter\n",
    "import pickle\n",
    "import string"
   ]
  },
  {
   "cell_type": "code",
   "execution_count": 2,
   "metadata": {
    "collapsed": false
   },
   "outputs": [
    {
     "name": "stdout",
     "output_type": "stream",
     "text": [
      "0.423106297624\n"
     ]
    },
    {
     "data": {
      "image/png": "[encoded data removed]",
      "text/plain": [
       "<matplotlib.figure.Figure at 0x111574550>"
      ]
     },
     "metadata": {},
     "output_type": "display_data"
    }
   ],
   "source": [
    "with open('cites_in_topics3.txt', 'r') as myfile:\n",
    "    totals = []\n",
    "    in_topics = []\n",
    "    for line in myfile:\n",
    "        line = line.split(\" \")\n",
    "        total = line[0]\n",
    "        totals.append(int(total))\n",
    "        in_topic = line[1]\n",
    "        in_topics.append(int(in_topic))\n",
    "percents = [100*in_topics[i]/float(totals[i]) for i in range(len(in_topics))]\n",
    "avg = 100*sum(in_topics)/float(sum(totals))\n",
    "print avg\n",
    "from matplotlib import pyplot as plt\n",
    "#percents.hist(color = \"DarkTurquoise\", bins = 20)\n",
    "plt.hist(percents, color = \"DarkTurquoise\")\n",
    "plt.title('Distribution of Percent of Cited Patents in topic')\n",
    "plt.xlabel('% of Citations in Topic')\n",
    "plt.ylabel('Number of topics ')\n",
    "\n",
    "plt.show()"
   ]
  },
  {
   "cell_type": "code",
   "execution_count": null,
   "metadata": {
    "collapsed": true
   },
   "outputs": [],
   "source": [
    "#add to main code to get topic words\n",
    "lda = LdaMulticore(DT_matrix, id2word=full_dict, num_topics=100) \n",
    "print \"Topics Modelled!\"\n",
    "print \"Writing topics to text\"\n",
    "words = lda.print_topics(num_topics=100, num_words=10)\n",
    "with open(\"topics.txt\", 'w') as myfile:\n",
    "    for i in words:\n",
    "        myfile.write(\"Topic: \" + str(i[0]) +'\\n')\n",
    "        myfile.write((str(i[1])) + '\\n')\n",
    "        myfile.write('\\n')\n",
    "print \"Text file done!\""
   ]
  },
  {
   "cell_type": "code",
   "execution_count": null,
   "metadata": {
    "collapsed": true
   },
   "outputs": [],
   "source": []
  }
 ],
 "metadata": {
  "kernelspec": {
   "display_name": "Python (tensorflow)",
   "language": "python",
   "name": "tensorflow"
  },
  "language_info": {
   "codemirror_mode": {
    "name": "ipython",
    "version": 2
   },
   "file_extension": ".py",
   "mimetype": "text/x-python",
   "name": "python",
   "nbconvert_exporter": "python",
   "pygments_lexer": "ipython2",
   "version": "2.7.13"
  }
 },
 "nbformat": 4,
 "nbformat_minor": 0
}
